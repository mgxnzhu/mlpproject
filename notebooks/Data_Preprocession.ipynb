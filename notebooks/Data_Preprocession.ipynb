{
 "cells": [
  {
   "cell_type": "code",
   "execution_count": 1,
   "metadata": {},
   "outputs": [],
   "source": [
    "import pandas as pd\n",
    "import numpy as np\n",
    "import matplotlib.pyplot as plt\n",
    "%matplotlib inline"
   ]
  },
  {
   "cell_type": "code",
   "execution_count": 2,
   "metadata": {},
   "outputs": [],
   "source": [
    "rng = np.random.RandomState(20180201)\n",
    "DEFAULT_SEED = 20180201\n",
    "DATA_DIR = \"../data/\"\n",
    "DATA_FILE = \"creditcard.csv\""
   ]
  },
  {
   "cell_type": "code",
   "execution_count": 3,
   "metadata": {
    "scrolled": true
   },
   "outputs": [],
   "source": [
    "data = pd.read_csv(DATA_DIR+DATA_FILE)\n",
    "stats = pd.DataFrame({'mean':data.mean(), 'std':data.std(), 'skew':data.skew()})\n",
    "\n",
    "# normalize the data\n",
    "data['Amount'] = data['Amount'].apply(lambda x: np.log(x+1e-6))\n",
    "data.loc[:,'V1':'Amount'] = data.loc[:,'V1':'Amount'].apply(lambda x: (x-x.mean())/x.std())\n",
    "#data.loc[:,'V1':'V28'] = data.loc[:,'V1':'V28'].apply(lambda x: (x-x.min())/(x.std(x.max()-x.min())))"
   ]
  },
  {
   "cell_type": "code",
   "execution_count": 4,
   "metadata": {
    "scrolled": false
   },
   "outputs": [],
   "source": [
    "# plot the histograms of data in each axises\n",
    "plot=False\n",
    "if plot:\n",
    "    pos_data = data[data[\"Class\"]==1]\n",
    "    neg_data = data[data[\"Class\"]==0]\n",
    "    for key in data.keys()[1:-1]: # for all principle components\n",
    "        fig = plt.figure(figsize=(4,3))\n",
    "        plt.hist(pos_data[key], histtype=\"step\", normed=True, bins=50, range=(-1,1), label=\"pos\")\n",
    "        plt.hist(neg_data[key], histtype=\"step\", normed=True, bins=50, range=(-1,1), label=\"neg\")\n",
    "        plt.xlim(-1,1)\n",
    "        plt.title(key)\n",
    "        plt.legend()\n",
    "        fig.savefig(key+\"_Scaled.png\")"
   ]
  },
  {
   "cell_type": "code",
   "execution_count": 5,
   "metadata": {
    "scrolled": true
   },
   "outputs": [],
   "source": [
    "def split_DataFrame(data, label, frac, rng=None):\n",
    "    '''\n",
    "    Split the data into two part, and remain the same event propotion in the results.\n",
    "    \n",
    "    Input:\n",
    "        data (pd.DataFrame): the Input data\n",
    "        label (string): the event class label\n",
    "        frac (float): the propotion of the first part\n",
    "        rng (np.RandomState): NumPy random state\n",
    "\n",
    "    Return:\n",
    "        tuple of two subparst of the data\n",
    "    '''\n",
    "    if rng is None:\n",
    "        rng = np.random.RandomState(DEFAULT_SEED)\n",
    "    subdf1 = pd.DataFrame()\n",
    "    subdf2 = pd.DataFrame()\n",
    "    count = data[label].value_counts()\n",
    "    for val in count.keys():\n",
    "        df = data[data[label]==val]\n",
    "        mask = rng.rand(len(df)) < frac\n",
    "        subdf1 = pd.concat([df[mask]] + [subdf1])\n",
    "        subdf2 = pd.concat([df[~mask]] + [subdf2])\n",
    "    return (subdf1, subdf2)\n",
    "\n",
    "def oversample(df_input, label, rng=None):\n",
    "    '''\n",
    "    Simply duplicate the data with minority label to let all category have the close amount\n",
    "    \n",
    "    Input:\n",
    "        df_input (pd.DataFrame): the Input data\n",
    "        label (string): the event class label\n",
    "        rng (np.RandomState): NumPy random state\n",
    "        \n",
    "    Return:\n",
    "        oversampled DataFrame\n",
    "    '''\n",
    "    if rng is None:\n",
    "        rng = np.random.RandomState(DEFAULT_SEED)\n",
    "    count = df_input[label].value_counts()\n",
    "    repeat = np.array(np.ceil(count.max()/count), dtype=np.int)\n",
    "    res = pd.DataFrame()\n",
    "    for val, nrep in zip(count.keys(), repeat):\n",
    "        df = df_input[df_input[label]==val]\n",
    "        res = pd.concat([res] + [df]*nrep)\n",
    "    return res.sample(frac=1, random_state=rng).reset_index(drop=True)\n",
    "\n",
    "def smote_oversample(df, lebal, val, n_sample, k_neighbor, n_gen, rng=None):\n",
    "    \n",
    "    if rng is None:\n",
    "        rng = np.random.RandomState(DEFAULT_SEED)\n",
    "    df_minority = df[df[lebal]==val]\n",
    "    assert n_sample <= df_minority.shape[0]\n",
    "    assert k_neighbor < df_minority.shape[0]\n",
    "    df_minority = np.array(df_minority)\n",
    "    for i in range(n_sample):\n",
    "        xi = df_minority[i]\n",
    "        resdf = np.delete(df_minority, i, 0)\n",
    "        dist = []\n",
    "        for xii in resdf:\n",
    "            idist = np.linalg.norm(xi-xii)\n",
    "            dist.append(idist)\n",
    "        dist = np.array(dist)\n",
    "        ridx = rng.randint(k_neighbor,size=n_gen)\n",
    "        rshift = rng.rand(n_gen,1)\n",
    "        gen = xi + (resdf[dist.argsort()[:k_neighbor]][ridx]-xi) * rshift\n",
    "        gen_df = pd.DataFrame(gen, columns=df.columns)\n",
    "        df = df.append(gen_df)\n",
    "    return df.sample(frac=1, random_state=rng).reset_index(drop=True)"
   ]
  },
  {
   "cell_type": "code",
   "execution_count": 14,
   "metadata": {},
   "outputs": [],
   "source": [
    "# train : test : valid = 0.6 : 0.2 : 0.2 \n",
    "train_df, evalu = split_DataFrame(data, label='Class', frac=0.6, rng=rng)\n",
    "train_df = oversample(train_df, label='Class', rng=rng)\n",
    "#train_df = smote_oversample(train_df, 'Class', 1, 280, 140, 700, rng=rng)\n",
    "test_df, valid_df = split_DataFrame(evalu, label='Class', frac=0.5, rng=rng)\n",
    "\n",
    "train = train_df.as_matrix()\n",
    "test = test_df.as_matrix()\n",
    "valid = valid_df.as_matrix()\n",
    "\n",
    "np.savez_compressed(DATA_DIR+'simple_ccdataset.npz', train=train, test=test, valid=valid)"
   ]
  },
  {
   "cell_type": "code",
   "execution_count": null,
   "metadata": {},
   "outputs": [],
   "source": []
  }
 ],
 "metadata": {
  "kernelspec": {
   "display_name": "Python 3",
   "language": "python",
   "name": "python3"
  },
  "language_info": {
   "codemirror_mode": {
    "name": "ipython",
    "version": 3
   },
   "file_extension": ".py",
   "mimetype": "text/x-python",
   "name": "python",
   "nbconvert_exporter": "python",
   "pygments_lexer": "ipython3",
   "version": "3.6.4"
  }
 },
 "nbformat": 4,
 "nbformat_minor": 2
}
